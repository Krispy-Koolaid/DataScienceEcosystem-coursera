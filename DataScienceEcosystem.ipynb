{
 "cells": [
  {
   "cell_type": "markdown",
   "id": "430bbf27-c2ce-4547-950e-d3f71bee5edf",
   "metadata": {},
   "source": [
    "# Data Science Tools and Ecosystem"
   ]
  },
  {
   "cell_type": "markdown",
   "id": "02fad2da-b2c7-4aa4-b708-01c2c336d6d3",
   "metadata": {},
   "source": [
    "In this notebook, Data Science Tools and Ecosystem are summarized."
   ]
  },
  {
   "cell_type": "markdown",
   "id": "c1a613fa-7494-4b83-93a3-4d4fdf0da0ca",
   "metadata": {},
   "source": [
    "## Some of the popular languages that Data Scientists use are:\n",
    "1. Python\n",
    "2. R\n",
    "3. SQL"
   ]
  },
  {
   "cell_type": "markdown",
   "id": "7d8f88b8-f2c5-46ce-a2ac-9e3e16f01323",
   "metadata": {},
   "source": [
    "## Some of the commonly used libraries used by Data Scientists include:\n",
    "1. pandas\n",
    "2. numpy\n",
    "3. matplotlib"
   ]
  },
  {
   "cell_type": "markdown",
   "id": "2710d3cf-2091-40c8-ac2a-b9eb85cbf86c",
   "metadata": {},
   "source": [
    "| Data Science Tools |\n",
    "|---------------------|\n",
    "| RStudio |\n",
    "| Jupyter Notebook |\n",
    "| Spyder |\n"
   ]
  },
  {
   "cell_type": "markdown",
   "id": "7915d25a-81da-4792-be6d-2901daa983ff",
   "metadata": {},
   "source": [
    "### Below are a few examples of evaluating arithmetic expressions in Python\n",
    "\n",
    "- Addition: 2 + 3 = 5\n",
    "- Subtraction: 7 - 4 = 3\n",
    "- Multiplication: 6 * 8 = 48\n",
    "- Division: 20 / 5 = 4\n",
    "- Exponentiation: 2 ** 3 = 8\n",
    "- Modulus (remainder): 17 % 5 = 2"
   ]
  },
  {
   "cell_type": "code",
   "execution_count": 2,
   "id": "1ca3bf2d-d4a9-4d68-aaa4-4739168ee29b",
   "metadata": {},
   "outputs": [
    {
     "data": {
      "text/plain": [
       "17"
      ]
     },
     "execution_count": 2,
     "metadata": {},
     "output_type": "execute_result"
    }
   ],
   "source": [
    "# This is a simple arithmetic expression to multiply then add integers\n",
    "(3*4)+5"
   ]
  },
  {
   "cell_type": "code",
   "execution_count": 3,
   "id": "4531ccf0-b15b-4a4c-8a34-70314d78d9a3",
   "metadata": {},
   "outputs": [
    {
     "data": {
      "text/plain": [
       "3.3333333333333335"
      ]
     },
     "execution_count": 3,
     "metadata": {},
     "output_type": "execute_result"
    }
   ],
   "source": [
    "# This will convert 200 minutes to hours by dividing by 60\n",
    "200 / 60"
   ]
  },
  {
   "cell_type": "markdown",
   "id": "4de17070-b9ff-4aea-9bdf-adc9312db4f1",
   "metadata": {},
   "source": [
    "**Objectives:**\n",
    "\n",
    "- List popular languages for Data Science\n",
    "- Introduce common libraries used in Data Science\n",
    "- Demonstrate basic arithmetic operations in Python\n",
    "- Show how to convert units (minutes to hours)\n",
    "- Create simple tables and lists using markdown\n"
   ]
  },
  {
   "cell_type": "markdown",
   "id": "e126fede-401d-4be7-bcf8-ab53d7e579de",
   "metadata": {},
   "source": [
    "## Author\n",
    "\n",
    "Abhishek Raju Palathoti\n"
   ]
  }
 ],
 "metadata": {
  "kernelspec": {
   "display_name": "Python 3 (ipykernel)",
   "language": "python",
   "name": "python3"
  },
  "language_info": {
   "codemirror_mode": {
    "name": "ipython",
    "version": 3
   },
   "file_extension": ".py",
   "mimetype": "text/x-python",
   "name": "python",
   "nbconvert_exporter": "python",
   "pygments_lexer": "ipython3",
   "version": "3.12.7"
  }
 },
 "nbformat": 4,
 "nbformat_minor": 5
}
